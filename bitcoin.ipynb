{
 "cells": [
  {
   "cell_type": "markdown",
   "metadata": {},
   "source": [
    "Bitcoin data are extracted from coinmarketcap"
   ]
  },
  {
   "cell_type": "code",
   "execution_count": 19,
   "metadata": {},
   "outputs": [
    {
     "data": {
      "text/html": [
       "<div>\n",
       "<style>\n",
       "    .dataframe thead tr:only-child th {\n",
       "        text-align: right;\n",
       "    }\n",
       "\n",
       "    .dataframe thead th {\n",
       "        text-align: left;\n",
       "    }\n",
       "\n",
       "    .dataframe tbody tr th {\n",
       "        vertical-align: top;\n",
       "    }\n",
       "</style>\n",
       "<table border=\"1\" class=\"dataframe\">\n",
       "  <thead>\n",
       "    <tr style=\"text-align: right;\">\n",
       "      <th></th>\n",
       "      <th>Date</th>\n",
       "      <th>Open</th>\n",
       "      <th>High</th>\n",
       "      <th>Low</th>\n",
       "      <th>Close</th>\n",
       "      <th>Volume</th>\n",
       "      <th>Market Cap</th>\n",
       "    </tr>\n",
       "  </thead>\n",
       "  <tbody>\n",
       "    <tr>\n",
       "      <th>0</th>\n",
       "      <td>2018-03-03</td>\n",
       "      <td>11101.9</td>\n",
       "      <td>11528.2</td>\n",
       "      <td>11002.4</td>\n",
       "      <td>11489.7</td>\n",
       "      <td>6690570000</td>\n",
       "      <td>187581000000</td>\n",
       "    </tr>\n",
       "    <tr>\n",
       "      <th>1</th>\n",
       "      <td>2018-03-02</td>\n",
       "      <td>10977.4</td>\n",
       "      <td>11189.0</td>\n",
       "      <td>10850.1</td>\n",
       "      <td>11086.4</td>\n",
       "      <td>7620590000</td>\n",
       "      <td>185456000000</td>\n",
       "    </tr>\n",
       "    <tr>\n",
       "      <th>2</th>\n",
       "      <td>2018-03-01</td>\n",
       "      <td>10385.0</td>\n",
       "      <td>11052.3</td>\n",
       "      <td>10352.7</td>\n",
       "      <td>10951.0</td>\n",
       "      <td>7317280000</td>\n",
       "      <td>175427000000</td>\n",
       "    </tr>\n",
       "    <tr>\n",
       "      <th>3</th>\n",
       "      <td>2018-02-28</td>\n",
       "      <td>10687.2</td>\n",
       "      <td>11089.8</td>\n",
       "      <td>10393.1</td>\n",
       "      <td>10397.9</td>\n",
       "      <td>6936190000</td>\n",
       "      <td>180510000000</td>\n",
       "    </tr>\n",
       "    <tr>\n",
       "      <th>4</th>\n",
       "      <td>2018-02-27</td>\n",
       "      <td>10393.9</td>\n",
       "      <td>10878.5</td>\n",
       "      <td>10246.1</td>\n",
       "      <td>10725.6</td>\n",
       "      <td>6966180000</td>\n",
       "      <td>175536000000</td>\n",
       "    </tr>\n",
       "  </tbody>\n",
       "</table>\n",
       "</div>"
      ],
      "text/plain": [
       "        Date     Open     High      Low    Close      Volume    Market Cap\n",
       "0 2018-03-03  11101.9  11528.2  11002.4  11489.7  6690570000  187581000000\n",
       "1 2018-03-02  10977.4  11189.0  10850.1  11086.4  7620590000  185456000000\n",
       "2 2018-03-01  10385.0  11052.3  10352.7  10951.0  7317280000  175427000000\n",
       "3 2018-02-28  10687.2  11089.8  10393.1  10397.9  6936190000  180510000000\n",
       "4 2018-02-27  10393.9  10878.5  10246.1  10725.6  6966180000  175536000000"
      ]
     },
     "execution_count": 19,
     "metadata": {},
     "output_type": "execute_result"
    }
   ],
   "source": [
    "import pandas as pd\n",
    "import time\n",
    "import seaborn as sns\n",
    "import matplotlib.pyplot as plt\n",
    "import datetime\n",
    "import numpy as np\n",
    "\n",
    "\n",
    "bitcoin_market_info = pd.read_html(\"https://coinmarketcap.com/currencies/bitcoin/historical-data/?start=20130428&end=\"+time.strftime(\"%Y%m%d\"))[0]\n",
    "bitcoin_market_info = bitcoin_market_info.assign(Date=pd.to_datetime(bitcoin_market_info['Date']))\n",
    "# if Volume is equal to '-' convert it to 0\n",
    "bitcoin_market_info.loc[bitcoin_market_info['Volume']==\"-\",'Volume']=0\n",
    "bitcoin_market_info['Volume'] = bitcoin_market_info['Volume'].astype('int64')\n",
    "bitcoin_market_info.head()"
   ]
  },
  {
   "cell_type": "markdown",
   "metadata": {},
   "source": [
    "Ethereum data"
   ]
  },
  {
   "cell_type": "code",
   "execution_count": 2,
   "metadata": {},
   "outputs": [
    {
     "data": {
      "text/html": [
       "<div>\n",
       "<style>\n",
       "    .dataframe thead tr:only-child th {\n",
       "        text-align: right;\n",
       "    }\n",
       "\n",
       "    .dataframe thead th {\n",
       "        text-align: left;\n",
       "    }\n",
       "\n",
       "    .dataframe tbody tr th {\n",
       "        vertical-align: top;\n",
       "    }\n",
       "</style>\n",
       "<table border=\"1\" class=\"dataframe\">\n",
       "  <thead>\n",
       "    <tr style=\"text-align: right;\">\n",
       "      <th></th>\n",
       "      <th>Date</th>\n",
       "      <th>Open</th>\n",
       "      <th>High</th>\n",
       "      <th>Low</th>\n",
       "      <th>Close</th>\n",
       "      <th>Volume</th>\n",
       "      <th>Market Cap</th>\n",
       "    </tr>\n",
       "  </thead>\n",
       "  <tbody>\n",
       "    <tr>\n",
       "      <th>0</th>\n",
       "      <td>2018-03-03</td>\n",
       "      <td>856.71</td>\n",
       "      <td>868.45</td>\n",
       "      <td>855.21</td>\n",
       "      <td>857.23</td>\n",
       "      <td>1699370000</td>\n",
       "      <td>83911700000</td>\n",
       "    </tr>\n",
       "    <tr>\n",
       "      <th>1</th>\n",
       "      <td>2018-03-02</td>\n",
       "      <td>871.76</td>\n",
       "      <td>876.38</td>\n",
       "      <td>852.42</td>\n",
       "      <td>856.85</td>\n",
       "      <td>1894420000</td>\n",
       "      <td>85368100000</td>\n",
       "    </tr>\n",
       "    <tr>\n",
       "      <th>2</th>\n",
       "      <td>2018-03-01</td>\n",
       "      <td>856.01</td>\n",
       "      <td>880.30</td>\n",
       "      <td>851.92</td>\n",
       "      <td>872.20</td>\n",
       "      <td>1868520000</td>\n",
       "      <td>83808200000</td>\n",
       "    </tr>\n",
       "    <tr>\n",
       "      <th>3</th>\n",
       "      <td>2018-02-28</td>\n",
       "      <td>877.93</td>\n",
       "      <td>890.11</td>\n",
       "      <td>855.12</td>\n",
       "      <td>855.20</td>\n",
       "      <td>1963980000</td>\n",
       "      <td>85936400000</td>\n",
       "    </tr>\n",
       "    <tr>\n",
       "      <th>4</th>\n",
       "      <td>2018-02-27</td>\n",
       "      <td>870.37</td>\n",
       "      <td>896.26</td>\n",
       "      <td>867.10</td>\n",
       "      <td>878.26</td>\n",
       "      <td>2053980000</td>\n",
       "      <td>85177800000</td>\n",
       "    </tr>\n",
       "  </tbody>\n",
       "</table>\n",
       "</div>"
      ],
      "text/plain": [
       "        Date    Open    High     Low   Close      Volume   Market Cap\n",
       "0 2018-03-03  856.71  868.45  855.21  857.23  1699370000  83911700000\n",
       "1 2018-03-02  871.76  876.38  852.42  856.85  1894420000  85368100000\n",
       "2 2018-03-01  856.01  880.30  851.92  872.20  1868520000  83808200000\n",
       "3 2018-02-28  877.93  890.11  855.12  855.20  1963980000  85936400000\n",
       "4 2018-02-27  870.37  896.26  867.10  878.26  2053980000  85177800000"
      ]
     },
     "execution_count": 2,
     "metadata": {},
     "output_type": "execute_result"
    }
   ],
   "source": [
    "eth_market_info = pd.read_html(\"https://coinmarketcap.com/currencies/ethereum/historical-data/?start=20130428&end=\"+time.strftime(\"%Y%m%d\"))[0]\n",
    "eth_market_info = eth_market_info.assign(Date=pd.to_datetime(eth_market_info['Date']))\n",
    "eth_market_info.head()\n",
    "\n"
   ]
  },
  {
   "cell_type": "markdown",
   "metadata": {},
   "source": [
    "Plot data"
   ]
  },
  {
   "cell_type": "code",
   "execution_count": null,
   "metadata": {
    "collapsed": true
   },
   "outputs": [],
   "source": []
  },
  {
   "cell_type": "code",
   "execution_count": 3,
   "metadata": {
    "collapsed": true
   },
   "outputs": [],
   "source": [
    "bitcoin_market_info.columns =[bitcoin_market_info.columns[0]]+['bt_'+i for i in bitcoin_market_info.columns[1:]]\n",
    "eth_market_info.columns =[eth_market_info.columns[0]]+['eth_'+i for i in eth_market_info.columns[1:]]"
   ]
  },
  {
   "cell_type": "code",
   "execution_count": 4,
   "metadata": {},
   "outputs": [
    {
     "data": {
      "image/png": "[encoded data removed]",
      "text/plain": [
       "<matplotlib.figure.Figure at 0x7fada1cd8ac8>"
      ]
     },
     "metadata": {},
     "output_type": "display_data"
    }
   ],
   "source": [
    "\n",
    "\n",
    "fig, (ax1, ax2) = plt.subplots(2,1, gridspec_kw = {'height_ratios':[3, 1]})\n",
    "ax1.set_ylabel('Closing Price ($)',fontsize=12)\n",
    "ax2.set_ylabel('Volume ($ bn)',fontsize=12)\n",
    "ax2.set_yticks([int('%d000000000'%i) for i in range(10)])\n",
    "ax2.set_yticklabels(range(10))\n",
    "ax1.set_xticks([datetime.date(i,j,1) for i in range(2013,2019) for j in [1,7]])\n",
    "ax1.set_xticklabels('')\n",
    "ax2.set_xticks([datetime.date(i,j,1) for i in range(2013,2019) for j in [1,7]])\n",
    "ax2.set_xticklabels([datetime.date(i,j,1).strftime('%b %Y')  for i in range(2013,2019) for j in [1,7]])\n",
    "ax1.plot(bitcoin_market_info['Date'].astype(datetime.datetime),bitcoin_market_info['bt_Open'])\n",
    "ax2.bar(bitcoin_market_info['Date'].astype(datetime.datetime).values, bitcoin_market_info['bt_Volume'].values)\n",
    "fig.tight_layout()\n",
    "plt.show()\n",
    "\n"
   ]
  },
  {
   "cell_type": "code",
   "execution_count": 5,
   "metadata": {},
   "outputs": [
    {
     "data": {
      "image/png": "[encoded data removed]",
      "text/plain": [
       "<matplotlib.figure.Figure at 0x7fada1c62898>"
      ]
     },
     "metadata": {},
     "output_type": "display_data"
    }
   ],
   "source": [
    "fig, (ax1, ax2) = plt.subplots(2,1, gridspec_kw = {'height_ratios':[3, 1]})\n",
    "#ax1.set_yscale('log')\n",
    "ax1.set_ylabel('Closing Price ($)',fontsize=12)\n",
    "ax2.set_ylabel('Volume ($ bn)',fontsize=12)\n",
    "ax2.set_yticks([int('%d000000000'%i) for i in range(10)])\n",
    "ax2.set_yticklabels(range(10))\n",
    "ax1.set_xticks([datetime.date(i,j,1) for i in range(2013,2019) for j in [1,7]])\n",
    "ax1.set_xticklabels('')\n",
    "ax2.set_xticks([datetime.date(i,j,1) for i in range(2013,2019) for j in [1,7]])\n",
    "ax2.set_xticklabels([datetime.date(i,j,1).strftime('%b %Y')  for i in range(2013,2019) for j in [1,7]])\n",
    "ax1.plot(eth_market_info['Date'].astype(datetime.datetime),eth_market_info['eth_Open'])\n",
    "ax2.bar(eth_market_info['Date'].astype(datetime.datetime).values, eth_market_info['eth_Volume'].values)\n",
    "fig.tight_layout()\n",
    "plt.show()"
   ]
  },
  {
   "cell_type": "code",
   "execution_count": 6,
   "metadata": {},
   "outputs": [
    {
     "name": "stdout",
     "output_type": "stream",
     "text": [
      "(1771, 7)\n",
      "(940, 7)\n"
     ]
    }
   ],
   "source": [
    "print(bitcoin_market_info.shape)\n",
    "print(eth_market_info.shape)"
   ]
  },
  {
   "cell_type": "markdown",
   "metadata": {},
   "source": [
    "We merge both dataset and we only set the data after 2016-01-01.\n",
    "Each dataset has 7 features. After the merge, we only have 13 features. The main reason why the feature of bitcoin are used to predict the price of ethereum is that the cryptomarket tend to rely on the bitcoin (the first cryptocurrency). When the value of bitcoin goes down, other crytocurrencies tend to go down.\n",
    "This is mainly due to the pair system that exist in the cryptomarket. (btc/xmr, btc/eth ...)"
   ]
  },
  {
   "cell_type": "code",
   "execution_count": 7,
   "metadata": {},
   "outputs": [
    {
     "name": "stdout",
     "output_type": "stream",
     "text": [
      "(940, 13)\n",
      "(793, 13)\n"
     ]
    },
    {
     "data": {
      "text/html": [
       "<div>\n",
       "<style>\n",
       "    .dataframe thead tr:only-child th {\n",
       "        text-align: right;\n",
       "    }\n",
       "\n",
       "    .dataframe thead th {\n",
       "        text-align: left;\n",
       "    }\n",
       "\n",
       "    .dataframe tbody tr th {\n",
       "        vertical-align: top;\n",
       "    }\n",
       "</style>\n",
       "<table border=\"1\" class=\"dataframe\">\n",
       "  <thead>\n",
       "    <tr style=\"text-align: right;\">\n",
       "      <th></th>\n",
       "      <th>Date</th>\n",
       "      <th>bt_Open</th>\n",
       "      <th>bt_High</th>\n",
       "      <th>bt_Low</th>\n",
       "      <th>bt_Close</th>\n",
       "      <th>bt_Volume</th>\n",
       "      <th>bt_Market Cap</th>\n",
       "      <th>eth_Open</th>\n",
       "      <th>eth_High</th>\n",
       "      <th>eth_Low</th>\n",
       "      <th>eth_Close</th>\n",
       "      <th>eth_Volume</th>\n",
       "      <th>eth_Market Cap</th>\n",
       "      <th>bt_day_diff</th>\n",
       "      <th>eth_day_diff</th>\n",
       "    </tr>\n",
       "  </thead>\n",
       "  <tbody>\n",
       "    <tr>\n",
       "      <th>0</th>\n",
       "      <td>2018-03-03</td>\n",
       "      <td>11101.9</td>\n",
       "      <td>11528.2</td>\n",
       "      <td>11002.4</td>\n",
       "      <td>11489.7</td>\n",
       "      <td>6690570000</td>\n",
       "      <td>187581000000</td>\n",
       "      <td>856.71</td>\n",
       "      <td>868.45</td>\n",
       "      <td>855.21</td>\n",
       "      <td>857.23</td>\n",
       "      <td>1699370000</td>\n",
       "      <td>83911700000</td>\n",
       "      <td>0.034931</td>\n",
       "      <td>0.000607</td>\n",
       "    </tr>\n",
       "    <tr>\n",
       "      <th>1</th>\n",
       "      <td>2018-03-02</td>\n",
       "      <td>10977.4</td>\n",
       "      <td>11189.0</td>\n",
       "      <td>10850.1</td>\n",
       "      <td>11086.4</td>\n",
       "      <td>7620590000</td>\n",
       "      <td>185456000000</td>\n",
       "      <td>871.76</td>\n",
       "      <td>876.38</td>\n",
       "      <td>852.42</td>\n",
       "      <td>856.85</td>\n",
       "      <td>1894420000</td>\n",
       "      <td>85368100000</td>\n",
       "      <td>0.009929</td>\n",
       "      <td>-0.017103</td>\n",
       "    </tr>\n",
       "    <tr>\n",
       "      <th>2</th>\n",
       "      <td>2018-03-01</td>\n",
       "      <td>10385.0</td>\n",
       "      <td>11052.3</td>\n",
       "      <td>10352.7</td>\n",
       "      <td>10951.0</td>\n",
       "      <td>7317280000</td>\n",
       "      <td>175427000000</td>\n",
       "      <td>856.01</td>\n",
       "      <td>880.30</td>\n",
       "      <td>851.92</td>\n",
       "      <td>872.20</td>\n",
       "      <td>1868520000</td>\n",
       "      <td>83808200000</td>\n",
       "      <td>0.054502</td>\n",
       "      <td>0.018913</td>\n",
       "    </tr>\n",
       "    <tr>\n",
       "      <th>3</th>\n",
       "      <td>2018-02-28</td>\n",
       "      <td>10687.2</td>\n",
       "      <td>11089.8</td>\n",
       "      <td>10393.1</td>\n",
       "      <td>10397.9</td>\n",
       "      <td>6936190000</td>\n",
       "      <td>180510000000</td>\n",
       "      <td>877.93</td>\n",
       "      <td>890.11</td>\n",
       "      <td>855.12</td>\n",
       "      <td>855.20</td>\n",
       "      <td>1963980000</td>\n",
       "      <td>85936400000</td>\n",
       "      <td>-0.027070</td>\n",
       "      <td>-0.025890</td>\n",
       "    </tr>\n",
       "    <tr>\n",
       "      <th>4</th>\n",
       "      <td>2018-02-27</td>\n",
       "      <td>10393.9</td>\n",
       "      <td>10878.5</td>\n",
       "      <td>10246.1</td>\n",
       "      <td>10725.6</td>\n",
       "      <td>6966180000</td>\n",
       "      <td>175536000000</td>\n",
       "      <td>870.37</td>\n",
       "      <td>896.26</td>\n",
       "      <td>867.10</td>\n",
       "      <td>878.26</td>\n",
       "      <td>2053980000</td>\n",
       "      <td>85177800000</td>\n",
       "      <td>0.031913</td>\n",
       "      <td>0.009065</td>\n",
       "    </tr>\n",
       "  </tbody>\n",
       "</table>\n",
       "</div>"
      ],
      "text/plain": [
       "        Date  bt_Open  bt_High   bt_Low  bt_Close   bt_Volume  bt_Market Cap  \\\n",
       "0 2018-03-03  11101.9  11528.2  11002.4   11489.7  6690570000   187581000000   \n",
       "1 2018-03-02  10977.4  11189.0  10850.1   11086.4  7620590000   185456000000   \n",
       "2 2018-03-01  10385.0  11052.3  10352.7   10951.0  7317280000   175427000000   \n",
       "3 2018-02-28  10687.2  11089.8  10393.1   10397.9  6936190000   180510000000   \n",
       "4 2018-02-27  10393.9  10878.5  10246.1   10725.6  6966180000   175536000000   \n",
       "\n",
       "   eth_Open  eth_High  eth_Low  eth_Close  eth_Volume eth_Market Cap  \\\n",
       "0    856.71    868.45   855.21     857.23  1699370000    83911700000   \n",
       "1    871.76    876.38   852.42     856.85  1894420000    85368100000   \n",
       "2    856.01    880.30   851.92     872.20  1868520000    83808200000   \n",
       "3    877.93    890.11   855.12     855.20  1963980000    85936400000   \n",
       "4    870.37    896.26   867.10     878.26  2053980000    85177800000   \n",
       "\n",
       "   bt_day_diff  eth_day_diff  \n",
       "0     0.034931      0.000607  \n",
       "1     0.009929     -0.017103  \n",
       "2     0.054502      0.018913  \n",
       "3    -0.027070     -0.025890  \n",
       "4     0.031913      0.009065  "
      ]
     },
     "execution_count": 7,
     "metadata": {},
     "output_type": "execute_result"
    }
   ],
   "source": [
    "market_info = pd.merge(bitcoin_market_info,eth_market_info, on=['Date'])\n",
    "print(market_info.shape)\n",
    "market_info = market_info[market_info['Date']>='2016-01-01']\n",
    "print(market_info.shape)\n",
    "for coins in ['bt_', 'eth_']: \n",
    "    kwargs = { coins+'day_diff': lambda x: (x[coins+'Close']-x[coins+'Open'])/x[coins+'Open']}\n",
    "    market_info = market_info.assign(**kwargs)\n",
    "market_info.head()"
   ]
  },
  {
   "cell_type": "markdown",
   "metadata": {},
   "source": [
    "We split the dataset between training set and test set"
   ]
  },
  {
   "cell_type": "code",
   "execution_count": 8,
   "metadata": {},
   "outputs": [
    {
     "data": {
      "image/png": "[encoded data removed]",
      "text/plain": [
       "<matplotlib.figure.Figure at 0x7fad9de13128>"
      ]
     },
     "metadata": {},
     "output_type": "display_data"
    }
   ],
   "source": [
    "split_date = '2017-06-01'\n",
    "fig, (ax1, ax2) = plt.subplots(2,1)\n",
    "ax1.set_xticks([datetime.date(i,j,1) for i in range(2013,2019) for j in [1,7]])\n",
    "ax1.set_xticklabels('')\n",
    "ax2.set_xticks([datetime.date(i,j,1) for i in range(2013,2019) for j in [1,7]])\n",
    "ax2.set_xticklabels([datetime.date(i,j,1).strftime('%b %Y')  for i in range(2013,2019) for j in [1,7]])\n",
    "ax1.plot(market_info[market_info['Date'] < split_date]['Date'].astype(datetime.datetime),\n",
    "         market_info[market_info['Date'] < split_date]['bt_Close'], \n",
    "         color='#B08FC7', label='Training')\n",
    "ax1.plot(market_info[market_info['Date'] >= split_date]['Date'].astype(datetime.datetime),\n",
    "         market_info[market_info['Date'] >= split_date]['bt_Close'], \n",
    "         color='#8FBAC8', label='Test')\n",
    "ax2.plot(market_info[market_info['Date'] < split_date]['Date'].astype(datetime.datetime),\n",
    "         market_info[market_info['Date'] < split_date]['eth_Close'], \n",
    "         color='#B08FC7')\n",
    "ax2.plot(market_info[market_info['Date'] >= split_date]['Date'].astype(datetime.datetime),\n",
    "         market_info[market_info['Date'] >= split_date]['eth_Close'], color='#8FBAC8')\n",
    "ax1.set_xticklabels('')\n",
    "ax1.set_ylabel('Bitcoin Price ($)',fontsize=12)\n",
    "ax2.set_ylabel('Ethereum Price ($)',fontsize=12)\n",
    "plt.tight_layout()\n",
    "ax1.legend(bbox_to_anchor=(0.03, 1), loc=2, borderaxespad=0., prop={'size': 14})\n",
    "plt.show()"
   ]
  },
  {
   "cell_type": "markdown",
   "metadata": {},
   "source": [
    "Add feature in dataset. The goal is to replace some column ( open price, daily highs and lows) and reformulate these information.\n",
    "\n",
    "\n",
    "**The close_off_high** represents the gap between the closing price and price high for that day, where values of -1 and 1 mean the closing price was equal to the daily low or daily high, respectively.\n",
    "\n",
    "**The volatility** columns are simply the difference between high and low price divided by the opening price."
   ]
  },
  {
   "cell_type": "code",
   "execution_count": 9,
   "metadata": {
    "collapsed": true
   },
   "outputs": [],
   "source": [
    "for coins in ['bt_', 'eth_']: \n",
    "    kwargs = { coins+'close_off_high': lambda x: 2*(x[coins+'High']- x[coins+'Close'])/(x[coins+'High']-x[coins+'Low'])-1,\n",
    "            coins+'volatility': lambda x: (x[coins+'High']- x[coins+'Low'])/(x[coins+'Open'])}\n",
    "    market_info = market_info.assign(**kwargs)"
   ]
  },
  {
   "cell_type": "code",
   "execution_count": 10,
   "metadata": {},
   "outputs": [
    {
     "data": {
      "text/html": [
       "<div>\n",
       "<style>\n",
       "    .dataframe thead tr:only-child th {\n",
       "        text-align: right;\n",
       "    }\n",
       "\n",
       "    .dataframe thead th {\n",
       "        text-align: left;\n",
       "    }\n",
       "\n",
       "    .dataframe tbody tr th {\n",
       "        vertical-align: top;\n",
       "    }\n",
       "</style>\n",
       "<table border=\"1\" class=\"dataframe\">\n",
       "  <thead>\n",
       "    <tr style=\"text-align: right;\">\n",
       "      <th></th>\n",
       "      <th>Date</th>\n",
       "      <th>bt_Close</th>\n",
       "      <th>bt_Volume</th>\n",
       "      <th>bt_close_off_high</th>\n",
       "      <th>bt_volatility</th>\n",
       "      <th>eth_Close</th>\n",
       "      <th>eth_Volume</th>\n",
       "      <th>eth_close_off_high</th>\n",
       "      <th>eth_volatility</th>\n",
       "    </tr>\n",
       "  </thead>\n",
       "  <tbody>\n",
       "    <tr>\n",
       "      <th>792</th>\n",
       "      <td>2016-01-01</td>\n",
       "      <td>434.33</td>\n",
       "      <td>36278900</td>\n",
       "      <td>-0.560641</td>\n",
       "      <td>0.020292</td>\n",
       "      <td>0.948024</td>\n",
       "      <td>206062</td>\n",
       "      <td>-0.418477</td>\n",
       "      <td>0.025040</td>\n",
       "    </tr>\n",
       "    <tr>\n",
       "      <th>791</th>\n",
       "      <td>2016-01-02</td>\n",
       "      <td>433.44</td>\n",
       "      <td>30096600</td>\n",
       "      <td>0.250597</td>\n",
       "      <td>0.009641</td>\n",
       "      <td>0.937124</td>\n",
       "      <td>255504</td>\n",
       "      <td>0.965898</td>\n",
       "      <td>0.034913</td>\n",
       "    </tr>\n",
       "    <tr>\n",
       "      <th>790</th>\n",
       "      <td>2016-01-03</td>\n",
       "      <td>430.01</td>\n",
       "      <td>39633800</td>\n",
       "      <td>-0.173865</td>\n",
       "      <td>0.020827</td>\n",
       "      <td>0.971905</td>\n",
       "      <td>407632</td>\n",
       "      <td>-0.317885</td>\n",
       "      <td>0.060792</td>\n",
       "    </tr>\n",
       "    <tr>\n",
       "      <th>789</th>\n",
       "      <td>2016-01-04</td>\n",
       "      <td>433.09</td>\n",
       "      <td>38477500</td>\n",
       "      <td>-0.474265</td>\n",
       "      <td>0.012649</td>\n",
       "      <td>0.954480</td>\n",
       "      <td>346245</td>\n",
       "      <td>-0.057657</td>\n",
       "      <td>0.047943</td>\n",
       "    </tr>\n",
       "    <tr>\n",
       "      <th>788</th>\n",
       "      <td>2016-01-05</td>\n",
       "      <td>431.96</td>\n",
       "      <td>34522600</td>\n",
       "      <td>-0.013333</td>\n",
       "      <td>0.010391</td>\n",
       "      <td>0.950176</td>\n",
       "      <td>219833</td>\n",
       "      <td>0.697930</td>\n",
       "      <td>0.025236</td>\n",
       "    </tr>\n",
       "  </tbody>\n",
       "</table>\n",
       "</div>"
      ],
      "text/plain": [
       "          Date  bt_Close  bt_Volume  bt_close_off_high  bt_volatility  \\\n",
       "792 2016-01-01    434.33   36278900          -0.560641       0.020292   \n",
       "791 2016-01-02    433.44   30096600           0.250597       0.009641   \n",
       "790 2016-01-03    430.01   39633800          -0.173865       0.020827   \n",
       "789 2016-01-04    433.09   38477500          -0.474265       0.012649   \n",
       "788 2016-01-05    431.96   34522600          -0.013333       0.010391   \n",
       "\n",
       "     eth_Close  eth_Volume  eth_close_off_high  eth_volatility  \n",
       "792   0.948024      206062           -0.418477        0.025040  \n",
       "791   0.937124      255504            0.965898        0.034913  \n",
       "790   0.971905      407632           -0.317885        0.060792  \n",
       "789   0.954480      346245           -0.057657        0.047943  \n",
       "788   0.950176      219833            0.697930        0.025236  "
      ]
     },
     "execution_count": 10,
     "metadata": {},
     "output_type": "execute_result"
    }
   ],
   "source": [
    "model_data = market_info[['Date']+[coin+metric for coin in ['bt_', 'eth_'] \n",
    "                                   for metric in ['Close','Volume','close_off_high','volatility']]]\n",
    "# need to reverse the data frame so that subsequent rows represent later timepoints\n",
    "model_data = model_data.sort_values(by='Date')\n",
    "model_data.head()"
   ]
  },
  {
   "cell_type": "markdown",
   "metadata": {},
   "source": [
    "- We split the data set\n",
    "- We will train a recurent network (RNN), so we can drop the date (the feature)"
   ]
  },
  {
   "cell_type": "code",
   "execution_count": 11,
   "metadata": {
    "collapsed": true
   },
   "outputs": [],
   "source": [
    "# we don't need the date columns anymore\n",
    "training_set, test_set = model_data[model_data['Date']<split_date], model_data[model_data['Date']>=split_date]\n",
    "training_set = training_set.drop('Date', 1)\n",
    "test_set = test_set.drop('Date', 1)"
   ]
  },
  {
   "cell_type": "markdown",
   "metadata": {},
   "source": [
    "We define a window of several days (5 days). It basically means that we input the data by chuck of 5 days.\n",
    "\n",
    "In addition, we normalize some columns in order to ease our RNN convergence.\n",
    "\n",
    "Finally, we store our dataset in numpy array\n"
   ]
  },
  {
   "cell_type": "code",
   "execution_count": 12,
   "metadata": {
    "collapsed": true
   },
   "outputs": [],
   "source": [
    "window_len = 5\n",
    "norm_cols = [coin+metric for coin in ['bt_', 'eth_'] for metric in ['Close','Volume']]\n",
    "# training set\n",
    "LSTM_training_inputs = []\n",
    "for i in range(len(training_set)-window_len):\n",
    "    temp_set = training_set[i:(i+window_len)].copy()\n",
    "    for col in norm_cols:\n",
    "        temp_set.loc[:, col] = temp_set[col]/temp_set[col].iloc[0] - 1\n",
    "    LSTM_training_inputs.append(temp_set)\n",
    "LSTM_training_outputs = (training_set['eth_Close'][window_len:].values/training_set['eth_Close'][:-window_len].values)-1\n",
    "\n",
    "#test set\n",
    "LSTM_test_inputs = []\n",
    "for i in range(len(test_set)-window_len):\n",
    "    temp_set = test_set[i:(i+window_len)].copy()\n",
    "    for col in norm_cols:\n",
    "        temp_set.loc[:, col] = temp_set[col]/temp_set[col].iloc[0] - 1\n",
    "    LSTM_test_inputs.append(temp_set)\n",
    "LSTM_test_outputs = (test_set['eth_Close'][window_len:].values/test_set['eth_Close'][:-window_len].values)-1\n",
    "\n",
    "LSTM_training_inputs = [np.array(LSTM_training_input) for LSTM_training_input in LSTM_training_inputs]\n",
    "LSTM_training_inputs = np.array(LSTM_training_inputs)\n",
    "\n",
    "LSTM_test_inputs = [np.array(LSTM_test_inputs) for LSTM_test_inputs in LSTM_test_inputs]\n",
    "LSTM_test_inputs = np.array(LSTM_test_inputs)"
   ]
  },
  {
   "cell_type": "markdown",
   "metadata": {},
   "source": [
    "The LSTM_training_inputs is a list and each element is a (10,8) matrix. 8 feature, 10 days"
   ]
  },
  {
   "cell_type": "code",
   "execution_count": 13,
   "metadata": {},
   "outputs": [
    {
     "name": "stdout",
     "output_type": "stream",
     "text": [
      "(517, 8)\n",
      "(512, 5, 8)\n",
      "(276, 8)\n",
      "(5, 8)\n"
     ]
    }
   ],
   "source": [
    "print(training_set.shape)\n",
    "print(LSTM_training_inputs.shape)\n",
    "\n",
    "print(test_set.shape)\n",
    "print(LSTM_test_inputs[0].shape)"
   ]
  },
  {
   "cell_type": "code",
   "execution_count": 14,
   "metadata": {},
   "outputs": [
    {
     "name": "stderr",
     "output_type": "stream",
     "text": [
      "Using TensorFlow backend.\n"
     ]
    }
   ],
   "source": [
    "# import the relevant Keras modules\n",
    "from keras.models import Sequential\n",
    "from keras.layers import Activation, Dense\n",
    "from keras.layers import LSTM\n",
    "from keras.layers import Dropout\n",
    "\n",
    "def build_model(inputs, output_size, neurons, activ_func=\"linear\",\n",
    "                dropout=0.25, loss=\"mae\", optimizer=\"adam\"):\n",
    "    model = Sequential()\n",
    "\n",
    "    model.add(LSTM(256, input_shape=(inputs.shape[1], inputs.shape[2])))\n",
    "    model.add(Dropout(dropout))\n",
    "    model.add(Dense(units=512, activation='relu'))\n",
    "    model.add(Dropout(dropout))\n",
    "    model.add(Dense(units=output_size))\n",
    "    model.add(Activation(activ_func))\n",
    "\n",
    "    model.compile(loss=loss, optimizer=optimizer)\n",
    "    return model"
   ]
  },
  {
   "cell_type": "code",
   "execution_count": 15,
   "metadata": {},
   "outputs": [
    {
     "name": "stdout",
     "output_type": "stream",
     "text": [
      "Epoch 1/50\n",
      "6s - loss: 0.1118\n",
      "Epoch 2/50\n",
      "5s - loss: 0.0798\n",
      "Epoch 3/50\n",
      "5s - loss: 0.0725\n",
      "Epoch 4/50\n",
      "5s - loss: 0.0694\n",
      "Epoch 5/50\n",
      "5s - loss: 0.0712\n",
      "Epoch 6/50\n",
      "5s - loss: 0.0667\n",
      "Epoch 7/50\n",
      "5s - loss: 0.0664\n",
      "Epoch 8/50\n",
      "5s - loss: 0.0660\n",
      "Epoch 9/50\n",
      "5s - loss: 0.0654\n",
      "Epoch 10/50\n",
      "5s - loss: 0.0653\n",
      "Epoch 11/50\n",
      "5s - loss: 0.0626\n",
      "Epoch 12/50\n",
      "5s - loss: 0.0607\n",
      "Epoch 13/50\n",
      "5s - loss: 0.0648\n",
      "Epoch 14/50\n",
      "5s - loss: 0.0644\n",
      "Epoch 15/50\n",
      "5s - loss: 0.0644\n",
      "Epoch 16/50\n",
      "5s - loss: 0.0614\n",
      "Epoch 17/50\n",
      "5s - loss: 0.0605\n",
      "Epoch 18/50\n",
      "5s - loss: 0.0616\n",
      "Epoch 19/50\n",
      "5s - loss: 0.0641\n",
      "Epoch 20/50\n",
      "5s - loss: 0.0634\n",
      "Epoch 21/50\n",
      "5s - loss: 0.0592\n",
      "Epoch 22/50\n",
      "5s - loss: 0.0597\n",
      "Epoch 23/50\n",
      "5s - loss: 0.0619\n",
      "Epoch 24/50\n",
      "5s - loss: 0.0628\n",
      "Epoch 25/50\n",
      "5s - loss: 0.0601\n",
      "Epoch 26/50\n",
      "5s - loss: 0.0593\n",
      "Epoch 27/50\n",
      "5s - loss: 0.0592\n",
      "Epoch 28/50\n",
      "5s - loss: 0.0597\n",
      "Epoch 29/50\n",
      "5s - loss: 0.0582\n",
      "Epoch 30/50\n",
      "5s - loss: 0.0599\n",
      "Epoch 31/50\n",
      "5s - loss: 0.0610\n",
      "Epoch 32/50\n",
      "5s - loss: 0.0569\n",
      "Epoch 33/50\n",
      "5s - loss: 0.0588\n",
      "Epoch 34/50\n",
      "5s - loss: 0.0617\n",
      "Epoch 35/50\n",
      "5s - loss: 0.0565\n",
      "Epoch 36/50\n",
      "5s - loss: 0.0582\n",
      "Epoch 37/50\n",
      "5s - loss: 0.0576\n",
      "Epoch 38/50\n",
      "5s - loss: 0.0565\n",
      "Epoch 39/50\n",
      "5s - loss: 0.0582\n",
      "Epoch 40/50\n",
      "5s - loss: 0.0552\n",
      "Epoch 41/50\n",
      "5s - loss: 0.0575\n",
      "Epoch 42/50\n",
      "5s - loss: 0.0542\n",
      "Epoch 43/50\n",
      "5s - loss: 0.0550\n",
      "Epoch 44/50\n",
      "5s - loss: 0.0556\n",
      "Epoch 45/50\n",
      "5s - loss: 0.0547\n",
      "Epoch 46/50\n",
      "5s - loss: 0.0528\n",
      "Epoch 47/50\n",
      "5s - loss: 0.0562\n",
      "Epoch 48/50\n",
      "5s - loss: 0.0553\n",
      "Epoch 49/50\n",
      "5s - loss: 0.0539\n",
      "Epoch 50/50\n",
      "5s - loss: 0.0576\n"
     ]
    }
   ],
   "source": [
    "# random seed for reproducibility\n",
    "np.random.seed(202)\n",
    "# initialise model architecture\n",
    "eth_model = build_model(LSTM_training_inputs, output_size=1, neurons = 20)\n",
    "# model output is next price normalised to 10th previous closing price\n",
    "LSTM_training_outputs = (training_set['eth_Close'][window_len:].values/training_set['eth_Close'][:-window_len].values)-1\n",
    "# train model on data\n",
    "# note: eth_history contains information on the training error per epoch\n",
    "eth_history = eth_model.fit(LSTM_training_inputs, LSTM_training_outputs, \n",
    "                            epochs=50, batch_size=1, verbose=2, shuffle=True)"
   ]
  },
  {
   "cell_type": "code",
   "execution_count": 16,
   "metadata": {},
   "outputs": [
    {
     "data": {
      "image/png": "[encoded data removed]",
      "text/plain": [
       "<matplotlib.figure.Figure at 0x7fada174af98>"
      ]
     },
     "metadata": {},
     "output_type": "display_data"
    }
   ],
   "source": [
    "from mpl_toolkits.axes_grid1.inset_locator import zoomed_inset_axes\n",
    "from mpl_toolkits.axes_grid1.inset_locator import mark_inset\n",
    "\n",
    "fig, ax1 = plt.subplots(1,1)\n",
    "ax1.set_xticks([datetime.date(i,j,1) for i in range(2013,2019) for j in [1,5,9]])\n",
    "ax1.set_xticklabels([datetime.date(i,j,1).strftime('%b %Y')  for i in range(2013,2019) for j in [1,5,9]])\n",
    "ax1.plot(model_data[model_data['Date']< split_date]['Date'][window_len:].astype(datetime.datetime),\n",
    "         training_set['eth_Close'][window_len:], label='Actual')\n",
    "ax1.plot(model_data[model_data['Date']< split_date]['Date'][window_len:].astype(datetime.datetime),\n",
    "         ((np.transpose(eth_model.predict(LSTM_training_inputs))+1) * training_set['eth_Close'].values[:-window_len])[0], \n",
    "         label='Predicted')\n",
    "ax1.set_title('Training Set: Single Timepoint Prediction')\n",
    "ax1.set_ylabel('Ethereum Price ($)',fontsize=12)\n",
    "ax1.legend(bbox_to_anchor=(0.15, 1), loc=2, borderaxespad=0., prop={'size': 14})\n",
    "ax1.annotate('MAE: %.4f'%np.mean(np.abs((np.transpose(eth_model.predict(LSTM_training_inputs))+1)-\\\n",
    "            (training_set['eth_Close'].values[window_len:])/(training_set['eth_Close'].values[:-window_len]))), \n",
    "             xy=(0.75, 0.9),  xycoords='axes fraction',\n",
    "            xytext=(0.75, 0.9), textcoords='axes fraction')\n",
    "# figure inset code taken from http://akuederle.com/matplotlib-zoomed-up-inset\n",
    "axins = zoomed_inset_axes(ax1, 3.35, loc=10) # zoom-factor: 3.35, location: centre\n",
    "axins.set_xticks([datetime.date(i,j,1) for i in range(2013,2019) for j in [1,5,9]])\n",
    "axins.plot(model_data[model_data['Date']< split_date]['Date'][window_len:].astype(datetime.datetime),\n",
    "         training_set['eth_Close'][window_len:], label='Actual')\n",
    "axins.plot(model_data[model_data['Date']< split_date]['Date'][window_len:].astype(datetime.datetime),\n",
    "         ((np.transpose(eth_model.predict(LSTM_training_inputs))+1) * training_set['eth_Close'].values[:-window_len])[0], \n",
    "         label='Predicted')\n",
    "axins.set_xlim([datetime.date(2017, 3, 1), datetime.date(2017, 5, 1)])\n",
    "axins.set_ylim([10,60])\n",
    "axins.set_xticklabels('')\n",
    "mark_inset(ax1, axins, loc1=1, loc2=3, fc=\"none\", ec=\"0.5\")\n",
    "plt.show()"
   ]
  },
  {
   "cell_type": "code",
   "execution_count": 17,
   "metadata": {},
   "outputs": [
    {
     "data": {
      "image/png": "[encoded data removed]",
      "text/plain": [
       "<matplotlib.figure.Figure at 0x7fada185a9b0>"
      ]
     },
     "metadata": {},
     "output_type": "display_data"
    }
   ],
   "source": [
    "fig, ax1 = plt.subplots(1,1)\n",
    "ax1.set_xticks([datetime.date(2017,i+1,1) for i in range(12)])\n",
    "ax1.set_xticklabels([datetime.date(2017,i+1,1).strftime('%b %d %Y')  for i in range(12)])\n",
    "ax1.plot(model_data[model_data['Date']>= split_date]['Date'][window_len:].astype(datetime.datetime),\n",
    "         test_set['eth_Close'][window_len:], label='Actual')\n",
    "ax1.plot(model_data[model_data['Date']>= split_date]['Date'][window_len:].astype(datetime.datetime),\n",
    "         ((np.transpose(eth_model.predict(LSTM_test_inputs))+1) * test_set['eth_Close'].values[:-window_len])[0], \n",
    "         label='Predicted')\n",
    "ax1.annotate('MAE: %.4f'%np.mean(np.abs((np.transpose(eth_model.predict(LSTM_test_inputs))+1)-\\\n",
    "            (test_set['eth_Close'].values[window_len:])/(test_set['eth_Close'].values[:-window_len]))), \n",
    "             xy=(0.75, 0.9),  xycoords='axes fraction',\n",
    "            xytext=(0.75, 0.9), textcoords='axes fraction')\n",
    "ax1.set_title('Test Set: Single Timepoint Prediction',fontsize=13)\n",
    "ax1.set_ylabel('Ethereum Price ($)',fontsize=12)\n",
    "ax1.legend(bbox_to_anchor=(0.1, 1), loc=2, borderaxespad=0., prop={'size': 14})\n",
    "plt.show()"
   ]
  },
  {
   "cell_type": "markdown",
   "metadata": {
    "collapsed": true
   },
   "source": [
    "Conclusion: \n",
    "\n",
    "Our LSTM model seems to have performed reasonably on the unseen test set. However it fail to predict a sudden value drop. This can be explained by the fact that our model is based on purely mathematical/logical data (volatily ...), but it doesn't take into account the **parameter** (this market is highty speculative). In order to improve our model, we should create a model which also includes the sentiment of people (for expample: sentiment detection on facebook or twitter)"
   ]
  },
  {
   "cell_type": "code",
   "execution_count": null,
   "metadata": {
    "collapsed": true
   },
   "outputs": [],
   "source": []
  },
  {
   "cell_type": "code",
   "execution_count": null,
   "metadata": {
    "collapsed": true
   },
   "outputs": [],
   "source": []
  }
 ],
 "metadata": {
  "kernelspec": {
   "display_name": "Python 3",
   "language": "python",
   "name": "python3"
  },
  "language_info": {
   "codemirror_mode": {
    "name": "ipython",
    "version": 3
   },
   "file_extension": ".py",
   "mimetype": "text/x-python",
   "name": "python",
   "nbconvert_exporter": "python",
   "pygments_lexer": "ipython3",
   "version": "3.5.3"
  }
 },
 "nbformat": 4,
 "nbformat_minor": 2
}
